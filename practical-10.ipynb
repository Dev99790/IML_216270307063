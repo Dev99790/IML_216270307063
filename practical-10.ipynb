{
 "cells": [
  {
   "cell_type": "code",
   "execution_count": 1,
   "id": "0c887a08",
   "metadata": {
    "_cell_guid": "b1076dfc-b9ad-4769-8c92-a6c4dae69d19",
    "_uuid": "8f2839f25d086af736a60e9eeb907d3b93b6e0e5",
    "execution": {
     "iopub.execute_input": "2023-10-18T08:47:39.025353Z",
     "iopub.status.busy": "2023-10-18T08:47:39.024693Z",
     "iopub.status.idle": "2023-10-18T08:47:39.759627Z",
     "shell.execute_reply": "2023-10-18T08:47:39.758582Z"
    },
    "papermill": {
     "duration": 0.741109,
     "end_time": "2023-10-18T08:47:39.761952",
     "exception": false,
     "start_time": "2023-10-18T08:47:39.020843",
     "status": "completed"
    },
    "tags": []
   },
   "outputs": [
    {
     "name": "stdout",
     "output_type": "stream",
     "text": [
      "World alcohol consumption sample data:\n",
      "   Year       WHO region                Country Beverage Types  Display Value\n",
      "0  1986  Western Pacific               Viet Nam           Wine           0.00\n",
      "1  1986         Americas                Uruguay          Other           0.50\n",
      "2  1985           Africa           Cte d'Ivoire           Wine           1.62\n",
      "3  1986         Americas               Colombia           Beer           4.27\n",
      "4  1987         Americas  Saint Kitts and Nevis           Beer           1.98\n",
      "\n",
      "Missing values:\n",
      "     Year  WHO region  Country  Beverage Types  Display Value\n",
      "0   False       False    False           False          False\n",
      "1   False       False    False           False          False\n",
      "2   False       False    False           False          False\n",
      "3   False       False    False           False          False\n",
      "4   False       False    False           False          False\n",
      "..    ...         ...      ...             ...            ...\n",
      "95  False       False    False           False          False\n",
      "96  False       False    False           False          False\n",
      "97  False       False    False           False          False\n",
      "98  False       False    False           False          False\n",
      "99  False       False    False           False          False\n",
      "\n",
      "[100 rows x 5 columns]\n",
      "\n",
      "Dropping the missing values:\n",
      "    Year       WHO region                                Country  \\\n",
      "0   1986  Western Pacific                               Viet Nam   \n",
      "1   1986         Americas                                Uruguay   \n",
      "2   1985           Africa                           Cte d'Ivoire   \n",
      "3   1986         Americas                               Colombia   \n",
      "4   1987         Americas                  Saint Kitts and Nevis   \n",
      "..   ...              ...                                    ...   \n",
      "95  1984           Africa                                  Niger   \n",
      "96  1985           Europe                             Luxembourg   \n",
      "97  1984  South-East Asia                              Indonesia   \n",
      "98  1984           Africa                      Equatorial Guinea   \n",
      "99  1985  South-East Asia  Democratic People's Republic of Korea   \n",
      "\n",
      "   Beverage Types  Display Value  \n",
      "0            Wine           0.00  \n",
      "1           Other           0.50  \n",
      "2            Wine           1.62  \n",
      "3            Beer           4.27  \n",
      "4            Beer           1.98  \n",
      "..            ...            ...  \n",
      "95          Other           0.00  \n",
      "96           Wine           7.38  \n",
      "97           Wine           0.00  \n",
      "98           Wine           0.00  \n",
      "99           Wine           0.00  \n",
      "\n",
      "[95 rows x 5 columns]\n"
     ]
    }
   ],
   "source": [
    "'''\n",
    "Name : Parmar Deva\n",
    "Enrollment : 216270307063\n",
    "'''\n",
    "import pandas as pd\n",
    "# World alcohol consumption data\n",
    "w_a_con = pd.read_csv('/kaggle/input/who-region/world_alcohol.csv')\n",
    "print(\"World alcohol consumption sample data:\")\n",
    "print(w_a_con.head())\n",
    "print(\"\\nMissing values:\")\n",
    "print(w_a_con.isnull())\n",
    "print(\"\\nDropping the missing values:\")\n",
    "print(w_a_con.dropna())\n"
   ]
  },
  {
   "cell_type": "code",
   "execution_count": 2,
   "id": "a034794d",
   "metadata": {
    "execution": {
     "iopub.execute_input": "2023-10-18T08:47:39.768341Z",
     "iopub.status.busy": "2023-10-18T08:47:39.768036Z",
     "iopub.status.idle": "2023-10-18T08:47:39.784568Z",
     "shell.execute_reply": "2023-10-18T08:47:39.783528Z"
    },
    "papermill": {
     "duration": 0.022634,
     "end_time": "2023-10-18T08:47:39.786511",
     "exception": false,
     "start_time": "2023-10-18T08:47:39.763877",
     "status": "completed"
    },
    "tags": []
   },
   "outputs": [
    {
     "name": "stdout",
     "output_type": "stream",
     "text": [
      "World alcohol consumption sample data:\n",
      "   Year       WHO region                Country Beverage Types  Display Value\n",
      "0  1986  Western Pacific               Viet Nam           Wine           0.00\n",
      "1  1986         Americas                Uruguay          Other           0.50\n",
      "2  1985           Africa           Cte d'Ivoire           Wine           1.62\n",
      "3  1986         Americas               Colombia           Beer           4.27\n",
      "4  1987         Americas  Saint Kitts and Nevis           Beer           1.98\n",
      "\n",
      "After removing the duplicates of WHO region column:\n",
      "    Year             WHO region       Country Beverage Types  Display Value\n",
      "0   1986        Western Pacific      Viet Nam           Wine           0.00\n",
      "1   1986               Americas       Uruguay          Other           0.50\n",
      "2   1985                 Africa  Cte d'Ivoire           Wine           1.62\n",
      "13  1984  Eastern Mediterranean   Afghanistan          Other           0.00\n",
      "18  1984                 Europe        Norway        Spirits           1.62\n",
      "20  1986        South-East Asia       Myanmar           Wine           0.00\n"
     ]
    }
   ],
   "source": [
    "import pandas as pd\n",
    "w_a_con = pd.read_csv('/kaggle/input/who-region/world_alcohol.csv')\n",
    "print(\"World alcohol consumption sample data:\")\n",
    "print(w_a_con.head())\n",
    "\n",
    "print(\"\\nAfter removing the duplicates of WHO region column:\")\n",
    "print(w_a_con.drop_duplicates('WHO region'))\n"
   ]
  },
  {
   "cell_type": "code",
   "execution_count": null,
   "id": "97a65cea",
   "metadata": {
    "papermill": {
     "duration": 0.001389,
     "end_time": "2023-10-18T08:47:39.789709",
     "exception": false,
     "start_time": "2023-10-18T08:47:39.788320",
     "status": "completed"
    },
    "tags": []
   },
   "outputs": [],
   "source": []
  }
 ],
 "metadata": {
  "kernelspec": {
   "display_name": "Python 3",
   "language": "python",
   "name": "python3"
  },
  "language_info": {
   "codemirror_mode": {
    "name": "ipython",
    "version": 3
   },
   "file_extension": ".py",
   "mimetype": "text/x-python",
   "name": "python",
   "nbconvert_exporter": "python",
   "pygments_lexer": "ipython3",
   "version": "3.10.12"
  },
  "papermill": {
   "default_parameters": {},
   "duration": 4.863285,
   "end_time": "2023-10-18T08:47:40.210220",
   "environment_variables": {},
   "exception": null,
   "input_path": "__notebook__.ipynb",
   "output_path": "__notebook__.ipynb",
   "parameters": {},
   "start_time": "2023-10-18T08:47:35.346935",
   "version": "2.4.0"
  }
 },
 "nbformat": 4,
 "nbformat_minor": 5
}

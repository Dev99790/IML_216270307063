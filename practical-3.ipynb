{
 "cells": [
  {
   "cell_type": "code",
   "execution_count": 1,
   "id": "f2fa207c",
   "metadata": {
    "_cell_guid": "b1076dfc-b9ad-4769-8c92-a6c4dae69d19",
    "_uuid": "8f2839f25d086af736a60e9eeb907d3b93b6e0e5",
    "execution": {
     "iopub.execute_input": "2023-09-11T12:19:33.206617Z",
     "iopub.status.busy": "2023-09-11T12:19:33.206217Z",
     "iopub.status.idle": "2023-09-11T12:19:33.219671Z",
     "shell.execute_reply": "2023-09-11T12:19:33.218658Z"
    },
    "papermill": {
     "duration": 0.022543,
     "end_time": "2023-09-11T12:19:33.223389",
     "exception": false,
     "start_time": "2023-09-11T12:19:33.200846",
     "status": "completed"
    },
    "tags": []
   },
   "outputs": [
    {
     "name": "stdout",
     "output_type": "stream",
     "text": [
      "Original array: [ 0  1  2  3  4  5  6  7  8  9 10 11 12 13]\n",
      "After splitting:\n",
      "[array([0, 1]), array([2, 3, 4, 5]), array([ 6,  7,  8,  9, 10, 11, 12, 13])]\n"
     ]
    }
   ],
   "source": [
    "import numpy as np\n",
    "x = np.arange(0, 14)\n",
    "print(\"Original array:\",x)\n",
    "print(\"After splitting:\")\n",
    "print(np.split(x, [2, 6]))\n"
   ]
  },
  {
   "cell_type": "code",
   "execution_count": 2,
   "id": "613ba216",
   "metadata": {
    "execution": {
     "iopub.execute_input": "2023-09-11T12:19:33.231664Z",
     "iopub.status.busy": "2023-09-11T12:19:33.230640Z",
     "iopub.status.idle": "2023-09-11T12:19:33.239324Z",
     "shell.execute_reply": "2023-09-11T12:19:33.238190Z"
    },
    "papermill": {
     "duration": 0.014945,
     "end_time": "2023-09-11T12:19:33.241512",
     "exception": false,
     "start_time": "2023-09-11T12:19:33.226567",
     "status": "completed"
    },
    "tags": []
   },
   "outputs": [
    {
     "data": {
      "text/plain": [
       "array([3, 5, 7, 5, 7, 9])"
      ]
     },
     "execution_count": 2,
     "metadata": {},
     "output_type": "execute_result"
    }
   ],
   "source": [
    "import numpy as np\n",
    "x = np.array((3,5,7))\n",
    "y = np.array((5,7,9))\n",
    "np.hstack((x,y))"
   ]
  },
  {
   "cell_type": "code",
   "execution_count": null,
   "id": "66328192",
   "metadata": {
    "papermill": {
     "duration": 0.002758,
     "end_time": "2023-09-11T12:19:33.247442",
     "exception": false,
     "start_time": "2023-09-11T12:19:33.244684",
     "status": "completed"
    },
    "tags": []
   },
   "outputs": [],
   "source": []
  }
 ],
 "kernelspec": {
  "display_name": "Python 3",
  "language": "python",
  "name": "python3"
 },
 "language_info": {
  "codemirror_mode": {
   "name": "ipython",
   "version": 3
  },
  "file_extension": ".py",
  "mimetype": "text/x-python",
  "name": "python",
  "nbconvert_exporter": "python",
  "pygments_lexer": "ipython3",
  "version": "3.6.4"
 },
 "metadata": {
  "kernelspec": {
   "display_name": "Python 3",
   "language": "python",
   "name": "python3"
  },
  "language_info": {
   "codemirror_mode": {
    "name": "ipython",
    "version": 3
   },
   "file_extension": ".py",
   "mimetype": "text/x-python",
   "name": "python",
   "nbconvert_exporter": "python",
   "pygments_lexer": "ipython3",
   "version": "3.10.12"
  },
  "papermill": {
   "default_parameters": {},
   "duration": 3.684998,
   "end_time": "2023-09-11T12:19:33.673487",
   "environment_variables": {},
   "exception": null,
   "input_path": "__notebook__.ipynb",
   "output_path": "__notebook__.ipynb",
   "parameters": {},
   "start_time": "2023-09-11T12:19:29.988489",
   "version": "2.4.0"
  }
 },
 "nbformat": 4,
 "nbformat_minor": 5
}

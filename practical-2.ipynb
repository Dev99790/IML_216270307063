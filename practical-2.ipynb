{
 "cells": [
  {
   "cell_type": "code",
   "execution_count": 1,
   "id": "b1b9f602",
   "metadata": {
    "_cell_guid": "b1076dfc-b9ad-4769-8c92-a6c4dae69d19",
    "_uuid": "8f2839f25d086af736a60e9eeb907d3b93b6e0e5",
    "execution": {
     "iopub.execute_input": "2023-09-05T12:55:28.609813Z",
     "iopub.status.busy": "2023-09-05T12:55:28.609138Z",
     "iopub.status.idle": "2023-09-05T12:55:29.481735Z",
     "shell.execute_reply": "2023-09-05T12:55:29.480527Z"
    },
    "papermill": {
     "duration": 0.882842,
     "end_time": "2023-09-05T12:55:29.484549",
     "exception": false,
     "start_time": "2023-09-05T12:55:28.601707",
     "status": "completed"
    },
    "tags": []
   },
   "outputs": [],
   "source": [
    "# This Python 3 environment comes with many helpful analytics libraries installed\n",
    "# It is defined by the kaggle/python Docker image: https://github.com/kaggle/docker-python\n",
    "# For example, here's several helpful packages to load\n",
    "\n",
    "import numpy as np # linear algebra\n",
    "import pandas as pd # data processing, CSV file I/O (e.g. pd.read_csv)\n",
    "\n",
    "# Input data files are available in the read-only \"../input/\" directory\n",
    "# For example, running this (by clicking run or pressing Shift+Enter) will list all files under the input directory\n",
    "\n",
    "import os\n",
    "for dirname, _, filenames in os.walk('/kaggle/input'):\n",
    "    for filename in filenames:\n",
    "        print(os.path.join(dirname, filename))\n",
    "\n",
    "# You can write up to 20GB to the current directory (/kaggle/working/) that gets preserved as output when you create a version using \"Save & Run All\" \n",
    "# You can also write temporary files to /kaggle/temp/, but they won't be saved outside of the current session"
   ]
  },
  {
   "cell_type": "code",
   "execution_count": 2,
   "id": "474ca7d9",
   "metadata": {
    "execution": {
     "iopub.execute_input": "2023-09-05T12:55:29.496875Z",
     "iopub.status.busy": "2023-09-05T12:55:29.495900Z",
     "iopub.status.idle": "2023-09-05T12:55:29.504726Z",
     "shell.execute_reply": "2023-09-05T12:55:29.503588Z"
    },
    "papermill": {
     "duration": 0.017919,
     "end_time": "2023-09-05T12:55:29.507729",
     "exception": false,
     "start_time": "2023-09-05T12:55:29.489810",
     "status": "completed"
    },
    "tags": []
   },
   "outputs": [
    {
     "name": "stdout",
     "output_type": "stream",
     "text": [
      "Original List: [70.3, 80.32, 100.5, 20.32]\n",
      "One-dimensional NumPy array:  [ 70.3   80.32 100.5   20.32]\n"
     ]
    }
   ],
   "source": [
    "import numpy as np\n",
    "l = [70.30, 80.32, 100.50, 20.32]\n",
    "print(\"Original List:\",l)\n",
    "a = np.array(l)\n",
    "print(\"One-dimensional NumPy array: \",a)"
   ]
  },
  {
   "cell_type": "code",
   "execution_count": 3,
   "id": "03aeec9d",
   "metadata": {
    "execution": {
     "iopub.execute_input": "2023-09-05T12:55:29.519521Z",
     "iopub.status.busy": "2023-09-05T12:55:29.519131Z",
     "iopub.status.idle": "2023-09-05T12:55:29.524892Z",
     "shell.execute_reply": "2023-09-05T12:55:29.523634Z"
    },
    "papermill": {
     "duration": 0.015345,
     "end_time": "2023-09-05T12:55:29.528216",
     "exception": false,
     "start_time": "2023-09-05T12:55:29.512871",
     "status": "completed"
    },
    "tags": []
   },
   "outputs": [
    {
     "name": "stdout",
     "output_type": "stream",
     "text": [
      "[[ 2  3  4]\n",
      " [ 5  6  7]\n",
      " [ 8  9 10]]\n"
     ]
    }
   ],
   "source": [
    "import numpy as np\n",
    "x =  np.arange(2, 11).reshape(3,3)\n",
    "print(x)\n"
   ]
  },
  {
   "cell_type": "code",
   "execution_count": 4,
   "id": "0235fdf4",
   "metadata": {
    "execution": {
     "iopub.execute_input": "2023-09-05T12:55:29.539913Z",
     "iopub.status.busy": "2023-09-05T12:55:29.539522Z",
     "iopub.status.idle": "2023-09-05T12:55:29.547226Z",
     "shell.execute_reply": "2023-09-05T12:55:29.545589Z"
    },
    "papermill": {
     "duration": 0.017224,
     "end_time": "2023-09-05T12:55:29.550394",
     "exception": false,
     "start_time": "2023-09-05T12:55:29.533170",
     "status": "completed"
    },
    "tags": []
   },
   "outputs": [
    {
     "name": "stdout",
     "output_type": "stream",
     "text": [
      "Original Array :  [1 8 3 3 5]\n",
      "Array after appending :  [1 8 3 3 5 7]\n"
     ]
    }
   ],
   "source": [
    "\n",
    "import numpy as np\n",
    "\n",
    "\n",
    "arr = np.array([1, 8, 3, 3, 5])\n",
    "print('Original Array : ', arr)\n",
    "\n",
    "arr = np.append(arr, [7])\n",
    "print('Array after appending : ', arr)\n"
   ]
  },
  {
   "cell_type": "code",
   "execution_count": 5,
   "id": "79336c2b",
   "metadata": {
    "execution": {
     "iopub.execute_input": "2023-09-05T12:55:29.563132Z",
     "iopub.status.busy": "2023-09-05T12:55:29.562007Z",
     "iopub.status.idle": "2023-09-05T12:55:29.571640Z",
     "shell.execute_reply": "2023-09-05T12:55:29.569653Z"
    },
    "papermill": {
     "duration": 0.018841,
     "end_time": "2023-09-05T12:55:29.574391",
     "exception": false,
     "start_time": "2023-09-05T12:55:29.555550",
     "status": "completed"
    },
    "tags": []
   },
   "outputs": [
    {
     "name": "stdout",
     "output_type": "stream",
     "text": [
      "Reshape 3x2:\n",
      "[[1 2]\n",
      " [3 4]\n",
      " [5 6]]\n",
      "Reshape 2x3:\n",
      "[[1 2 3]\n",
      " [4 5 6]]\n"
     ]
    }
   ],
   "source": [
    "import numpy as np\n",
    "x = np.array([1, 2, 3, 4, 5, 6])\n",
    "y = np.reshape(x,(3,2))\n",
    "print(\"Reshape 3x2:\")\n",
    "print(y)\n",
    "z = np.reshape(x,(2,3))\n",
    "print(\"Reshape 2x3:\")\n",
    "print(z)\n"
   ]
  },
  {
   "cell_type": "code",
   "execution_count": null,
   "id": "8ee6f8b6",
   "metadata": {
    "papermill": {
     "duration": 0.004812,
     "end_time": "2023-09-05T12:55:29.584540",
     "exception": false,
     "start_time": "2023-09-05T12:55:29.579728",
     "status": "completed"
    },
    "tags": []
   },
   "outputs": [],
   "source": []
  }
 ],
 "kernelspec": {
  "display_name": "Python 3",
  "language": "python",
  "name": "python3"
 },
 "language_info": {
  "codemirror_mode": {
   "name": "ipython",
   "version": 3
  },
  "file_extension": ".py",
  "mimetype": "text/x-python",
  "name": "python",
  "nbconvert_exporter": "python",
  "pygments_lexer": "ipython3",
  "version": "3.6.4"
 },
 "metadata": {
  "kernelspec": {
   "display_name": "Python 3",
   "language": "python",
   "name": "python3"
  },
  "language_info": {
   "codemirror_mode": {
    "name": "ipython",
    "version": 3
   },
   "file_extension": ".py",
   "mimetype": "text/x-python",
   "name": "python",
   "nbconvert_exporter": "python",
   "pygments_lexer": "ipython3",
   "version": "3.10.12"
  },
  "papermill": {
   "default_parameters": {},
   "duration": 6.086538,
   "end_time": "2023-09-05T12:55:30.111805",
   "environment_variables": {},
   "exception": null,
   "input_path": "__notebook__.ipynb",
   "output_path": "__notebook__.ipynb",
   "parameters": {},
   "start_time": "2023-09-05T12:55:24.025267",
   "version": "2.4.0"
  }
 },
 "nbformat": 4,
 "nbformat_minor": 5
}

{
 "cells": [
  {
   "cell_type": "code",
   "execution_count": 1,
   "id": "439fad16",
   "metadata": {
    "_cell_guid": "b1076dfc-b9ad-4769-8c92-a6c4dae69d19",
    "_uuid": "8f2839f25d086af736a60e9eeb907d3b93b6e0e5",
    "execution": {
     "iopub.execute_input": "2023-10-25T09:32:41.804850Z",
     "iopub.status.busy": "2023-10-25T09:32:41.804497Z",
     "iopub.status.idle": "2023-10-25T09:32:42.139948Z",
     "shell.execute_reply": "2023-10-25T09:32:42.139026Z"
    },
    "papermill": {
     "duration": 0.341264,
     "end_time": "2023-10-25T09:32:42.142143",
     "exception": false,
     "start_time": "2023-10-25T09:32:41.800879",
     "status": "completed"
    },
    "tags": []
   },
   "outputs": [
    {
     "name": "stdout",
     "output_type": "stream",
     "text": [
      "\n",
      "Keys of Iris dataset:\n",
      "Index(['Id', 'SepalLengthCm', 'SepalWidthCm', 'PetalLengthCm', 'PetalWidthCm',\n",
      "       'Species'],\n",
      "      dtype='object')\n",
      "\n",
      "Number of rows and columns of Iris dataset:\n",
      "(150, 6)\n"
     ]
    }
   ],
   "source": [
    "import pandas as pd\n",
    "data = pd.read_csv(\"/kaggle/input/iriscsv/Iris.csv\")\n",
    "print(\"\\nKeys of Iris dataset:\")\n",
    "print(data.keys())\n",
    "print(\"\\nNumber of rows and columns of Iris dataset:\")\n",
    "print(data.shape) "
   ]
  },
  {
   "cell_type": "code",
   "execution_count": null,
   "id": "41e805f4",
   "metadata": {
    "papermill": {
     "duration": 0.00351,
     "end_time": "2023-10-25T09:32:42.147518",
     "exception": false,
     "start_time": "2023-10-25T09:32:42.144008",
     "status": "completed"
    },
    "tags": []
   },
   "outputs": [],
   "source": []
  }
 ],
 "metadata": {
  "kernelspec": {
   "display_name": "Python 3",
   "language": "python",
   "name": "python3"
  },
  "language_info": {
   "codemirror_mode": {
    "name": "ipython",
    "version": 3
   },
   "file_extension": ".py",
   "mimetype": "text/x-python",
   "name": "python",
   "nbconvert_exporter": "python",
   "pygments_lexer": "ipython3",
   "version": "3.10.12"
  },
  "papermill": {
   "default_parameters": {},
   "duration": 3.589477,
   "end_time": "2023-10-25T09:32:42.569222",
   "environment_variables": {},
   "exception": null,
   "input_path": "__notebook__.ipynb",
   "output_path": "__notebook__.ipynb",
   "parameters": {},
   "start_time": "2023-10-25T09:32:38.979745",
   "version": "2.4.0"
  }
 },
 "nbformat": 4,
 "nbformat_minor": 5
}

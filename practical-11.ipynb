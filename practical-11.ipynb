{
 "cells": [
  {
   "cell_type": "code",
   "execution_count": 1,
   "id": "f351f6dd",
   "metadata": {
    "_cell_guid": "b1076dfc-b9ad-4769-8c92-a6c4dae69d19",
    "_uuid": "8f2839f25d086af736a60e9eeb907d3b93b6e0e5",
    "execution": {
     "iopub.execute_input": "2023-10-18T09:20:00.445205Z",
     "iopub.status.busy": "2023-10-18T09:20:00.444833Z",
     "iopub.status.idle": "2023-10-18T09:20:00.867890Z",
     "shell.execute_reply": "2023-10-18T09:20:00.866789Z"
    },
    "papermill": {
     "duration": 0.429516,
     "end_time": "2023-10-18T09:20:00.870674",
     "exception": false,
     "start_time": "2023-10-18T09:20:00.441158",
     "status": "completed"
    },
    "tags": []
   },
   "outputs": [
    {
     "name": "stdout",
     "output_type": "stream",
     "text": [
      "World alcohol consumption sample data:\n",
      "   Year       WHO region                Country Beverage Types  Display Value\n",
      "0  1986  Western Pacific               Viet Nam           Wine           0.00\n",
      "1  1986         Americas                Uruguay          Other           0.50\n",
      "2  1985           Africa           Cte d'Ivoire           Wine           1.62\n",
      "3  1986         Americas               Colombia           Beer           4.27\n",
      "4  1987         Americas  Saint Kitts and Nevis           Beer           1.98\n",
      "\n",
      "Rows and columns has a NaN:\n",
      "    Display Value\n",
      "0            0.00\n",
      "1            0.50\n",
      "2            1.62\n",
      "3            4.27\n",
      "4            1.98\n",
      "..            ...\n",
      "95           0.00\n",
      "96           7.38\n",
      "97           0.00\n",
      "98           0.00\n",
      "99           0.00\n",
      "\n",
      "[100 rows x 1 columns]\n",
      "\n",
      "Drop rows with any NaNs:\n",
      "    Year       WHO region                                Country  \\\n",
      "0   1986  Western Pacific                               Viet Nam   \n",
      "1   1986         Americas                                Uruguay   \n",
      "2   1985           Africa                           Cte d'Ivoire   \n",
      "3   1986         Americas                               Colombia   \n",
      "4   1987         Americas                  Saint Kitts and Nevis   \n",
      "..   ...              ...                                    ...   \n",
      "95  1984           Africa                                  Niger   \n",
      "96  1985           Europe                             Luxembourg   \n",
      "97  1984  South-East Asia                              Indonesia   \n",
      "98  1984           Africa                      Equatorial Guinea   \n",
      "99  1985  South-East Asia  Democratic People's Republic of Korea   \n",
      "\n",
      "   Beverage Types  Display Value  \n",
      "0            Wine           0.00  \n",
      "1           Other           0.50  \n",
      "2            Wine           1.62  \n",
      "3            Beer           4.27  \n",
      "4            Beer           1.98  \n",
      "..            ...            ...  \n",
      "95          Other           0.00  \n",
      "96           Wine           7.38  \n",
      "97           Wine           0.00  \n",
      "98           Wine           0.00  \n",
      "99           Wine           0.00  \n",
      "\n",
      "[95 rows x 5 columns]\n"
     ]
    }
   ],
   "source": [
    "'''\n",
    "Name : Parmar Deva\n",
    "Enrollment : 216270307063\n",
    "\n",
    "Write a Pandas program to filter all columns where all entries present, check which rows\n",
    "and columns has a NaN and finally drop rows with any NaNs from the given dataset.\n",
    "'''\n",
    "\n",
    "import pandas as pd\n",
    "w_a_con = pd.read_csv('/kaggle/input/world-alcohol/world_alcohol.csv')\n",
    "print(\"World alcohol consumption sample data:\")\n",
    "print(w_a_con.head())\n",
    "#print(\"\\nFind  all columns which all entries present:\")\n",
    "#print(w_a_con.loc[:, w_a_con.notnull().all()])\n",
    "print(\"\\nRows and columns has a NaN:\")\n",
    "print(w_a_con.loc[:,w_a_con.isnull().any()])\n",
    "print(\"\\nDrop rows with any NaNs:\")\n",
    "print(w_a_con.dropna(how='any'))  \n"
   ]
  },
  {
   "cell_type": "code",
   "execution_count": null,
   "id": "83ac85c7",
   "metadata": {
    "papermill": {
     "duration": 0.003541,
     "end_time": "2023-10-18T09:20:00.877897",
     "exception": false,
     "start_time": "2023-10-18T09:20:00.874356",
     "status": "completed"
    },
    "tags": []
   },
   "outputs": [],
   "source": []
  }
 ],
 "metadata": {
  "kernelspec": {
   "display_name": "Python 3",
   "language": "python",
   "name": "python3"
  },
  "language_info": {
   "codemirror_mode": {
    "name": "ipython",
    "version": 3
   },
   "file_extension": ".py",
   "mimetype": "text/x-python",
   "name": "python",
   "nbconvert_exporter": "python",
   "pygments_lexer": "ipython3",
   "version": "3.10.12"
  },
  "papermill": {
   "default_parameters": {},
   "duration": 4.079066,
   "end_time": "2023-10-18T09:20:01.401386",
   "environment_variables": {},
   "exception": null,
   "input_path": "__notebook__.ipynb",
   "output_path": "__notebook__.ipynb",
   "parameters": {},
   "start_time": "2023-10-18T09:19:57.322320",
   "version": "2.4.0"
  }
 },
 "nbformat": 4,
 "nbformat_minor": 5
}
